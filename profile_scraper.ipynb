{
 "cells": [
  {
   "cell_type": "markdown",
   "id": "30fd7b87",
   "metadata": {},
   "source": [
    "### 기획\n",
    "- 기능\n",
    "    - GUI 프로그램(키워드 개수, 넘기는 속도) - PyQt\n",
    "    - 키워드 개수 설정하기 - PyQt\n",
    "    - 인스타그램 특정 키워드 검색 - bs, sel\n",
    "    - 한 키워드당 접속 게시글 설정(100개?, 1000개?) (로딩 받아오는거는 셀레늄으로 스크롤해야 가능?) - PyQt\n",
    "    - 최근 게시글에 순서대로 접속 - sel\n",
    "    - 게시글의 모든 사진을 넘긴 후에 좋아요 누르기(넘기는 속도 1s 설정) -> 이래야 스크래핑이 문제없음 - sel\n",
    "    - 게시자의 피드 접속 - sel\n",
    "    - 게시자의 아이디, 게시글 수, 팔로워, 팔로우 -> 엑셀로 저장 - bs\n",
    "    - 스크래핑하고 어느정도 체류 -> 스크래핑 문제없음 - sel\n",
    "    - 특정 기준을 넘는 사람에 대해 DM 전송 - sel\n",
    "    - 여러개의 고정문자를 설정해서 반복적 DM 전송 -> 똑같은 문자로 여러개 보내면 막히기 때문"
   ]
  },
  {
   "cell_type": "code",
   "execution_count": 4,
   "id": "56380512",
   "metadata": {},
   "outputs": [],
   "source": [
    "import requests\n",
    "from bs4 import BeautifulSoup\n",
    "\n",
    "feed_url = 'https://www.instagram.com/mosalah/'\n",
    "response = requests.get(feed_url)\n",
    "\n",
    "if response.status_code == 200:\n",
    "    html = response.text\n",
    "    soup = BeautifulSoup(html, 'html.parser')\n",
    "else : \n",
    "    print(response.status_code)"
   ]
  },
  {
   "cell_type": "code",
   "execution_count": null,
   "id": "843729c8",
   "metadata": {},
   "outputs": [],
   "source": []
  },
  {
   "cell_type": "code",
   "execution_count": 41,
   "id": "7a34b20c",
   "metadata": {},
   "outputs": [
    {
     "data": {
      "text/plain": [
       "'mosalah'"
      ]
     },
     "execution_count": 41,
     "metadata": {},
     "output_type": "execute_result"
    }
   ],
   "source": [
    "body_tag = soup.body\n",
    "data_script = body_tag.find_all('script')[0]\n",
    "content = data_script.contents[0]\n",
    "data_object = content[content.find('{\"config\"'):-1]\n",
    "\n",
    "from json import loads\n",
    "data_json = loads(data_object)\n",
    "profile_data = data_json['entry_data']['ProfilePage'][0]['graphql']['user']\n",
    "profile_data['username']\n"
   ]
  },
  {
   "cell_type": "code",
   "execution_count": 44,
   "id": "492aa984",
   "metadata": {},
   "outputs": [
    {
     "data": {
      "text/plain": [
       "{'username': 'mosalah', 'followers_count': 44907412, 'following_count': 210}"
      ]
     },
     "execution_count": 44,
     "metadata": {},
     "output_type": "execute_result"
    }
   ],
   "source": [
    "profile = {\n",
    "    'username': profile_data['username'],\n",
    "    'followers_count': profile_data['edge_followed_by']['count'],\n",
    "    'following_count': profile_data['edge_follow']['count'],\n",
    "}\n",
    "profile"
   ]
  },
  {
   "cell_type": "code",
   "execution_count": 46,
   "id": "88ff0c4d",
   "metadata": {},
   "outputs": [],
   "source": [
    "from json import loads\n",
    "    \n",
    "def get_profile_data(soup): # parameter - soup 객체\n",
    "    body_tag = soup.body\n",
    "    data_script = body_tag.find_all('script')[0]\n",
    "    content = data_script.contents[0]\n",
    "    data_object = content[content.find('{\"config\"'):-1]\n",
    "\n",
    "    data_json = loads(data_object)\n",
    "    profile_data = data_json['entry_data']['ProfilePage'][0]['graphql']['user']\n",
    "    \n",
    "    profile = {\n",
    "        'username': profile_data['username'],\n",
    "        'followers_count': profile_data['edge_followed_by']['count'],\n",
    "        'following_count': profile_data['edge_follow']['count'],\n",
    "    }\n",
    "    \n",
    "    return profile\n",
    "\n",
    "\n",
    "def test_instagram_scraper(target_urls):\n",
    "    profiles = []\n",
    "    for url in target_urls:\n",
    "        response = requests.get(url)\n",
    "        if response.status_code == 200:\n",
    "            html = response.text\n",
    "            soup = BeautifulSoup(html, 'html.parser')\n",
    "            profile_data = get_profile_data(soup)\n",
    "            profiles.append(profile_data)\n",
    "        else : \n",
    "            print(response.status_code)\n",
    "    return profiles"
   ]
  },
  {
   "cell_type": "code",
   "execution_count": 47,
   "id": "c75d54c1",
   "metadata": {},
   "outputs": [
    {
     "name": "stdout",
     "output_type": "stream",
     "text": [
      "[{'username': 'mosalah', 'followers_count': 44911094, 'following_count': 210}, {'username': 'ryusdb', 'followers_count': 3471674, 'following_count': 2}, {'username': 'xeesoxee', 'followers_count': 6175849, 'following_count': 0}]\n"
     ]
    }
   ],
   "source": [
    "target_urls = [\n",
    "    'https://www.instagram.com/mosalah/',\n",
    "    'https://www.instagram.com/ryusdb/',\n",
    "    'https://www.instagram.com/xeesoxee/'\n",
    "]\n",
    "\n",
    "print(test_instagram_scraper(target_urls))"
   ]
  },
  {
   "cell_type": "code",
   "execution_count": null,
   "id": "354b31df",
   "metadata": {},
   "outputs": [],
   "source": []
  }
 ],
 "metadata": {
  "kernelspec": {
   "display_name": "Python 3 (ipykernel)",
   "language": "python",
   "name": "python3"
  },
  "language_info": {
   "codemirror_mode": {
    "name": "ipython",
    "version": 3
   },
   "file_extension": ".py",
   "mimetype": "text/x-python",
   "name": "python",
   "nbconvert_exporter": "python",
   "pygments_lexer": "ipython3",
   "version": "3.8.12"
  }
 },
 "nbformat": 4,
 "nbformat_minor": 5
}
