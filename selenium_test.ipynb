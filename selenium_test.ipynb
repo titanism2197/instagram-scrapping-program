{
 "cells": [
  {
   "cell_type": "code",
   "execution_count": 70,
   "id": "9e0fcc8e",
   "metadata": {},
   "outputs": [
    {
     "name": "stderr",
     "output_type": "stream",
     "text": [
      "/var/folders/7q/l0rz745s4752p_1ssxj_51cc0000gn/T/ipykernel_1707/619775060.py:5: DeprecationWarning: executable_path has been deprecated, please pass in a Service object\n",
      "  driver = webdriver.Chrome(executable_path= r'/Users/titanism/chromedriver')\n"
     ]
    }
   ],
   "source": [
    "from selenium import webdriver\n",
    "from selenium.webdriver.common.by import By\n",
    "\n",
    "# 절대경로 설정 참고 - https://haloaround.tistory.com/215\n",
    "driver = webdriver.Chrome(executable_path= r'/Users/titanism/chromedriver')"
   ]
  },
  {
   "cell_type": "code",
   "execution_count": 71,
   "id": "4fbe8dc4",
   "metadata": {},
   "outputs": [],
   "source": [
    "url = 'https://www.instagram.com/'\n",
    "driver.get(url)"
   ]
  },
  {
   "cell_type": "code",
   "execution_count": 72,
   "id": "03955f0c",
   "metadata": {},
   "outputs": [
    {
     "name": "stdout",
     "output_type": "stream",
     "text": [
      "Input ID : ········\n",
      "Input PWD : ········\n"
     ]
    }
   ],
   "source": [
    "# 직접 로그인 데이터를 입력할 수 있다.\n",
    "import getpass\n",
    "from time import sleep\n",
    "\n",
    "username = getpass.getpass(\"Input ID : \")# User ID\n",
    "password = getpass.getpass(\"Input PWD : \")# User PWD\n",
    "\n",
    "driver.find_element(By.XPATH, '//*[@id=\"loginForm\"]/div/div[1]/div/label/input').send_keys(username)\n",
    "driver.find_element(By.XPATH, '//*[@id=\"loginForm\"]/div/div[2]/div/label/input').send_keys(password)\n",
    "driver.find_element(By.XPATH, '//*[@id=\"loginForm\"]/div/div[3]').click()\n",
    "sleep(1.5)"
   ]
  },
  {
   "cell_type": "code",
   "execution_count": 73,
   "id": "67e91106",
   "metadata": {},
   "outputs": [],
   "source": [
    "# 로그인 정보 저장\n",
    "driver.find_element(By.XPATH, '//*[@id=\"react-root\"]/section/main/div/div/div/div/button').click()"
   ]
  },
  {
   "cell_type": "code",
   "execution_count": 52,
   "id": "e2ee14fd",
   "metadata": {},
   "outputs": [],
   "source": [
    "# 알람설정\n",
    "driver.find_element(By.XPATH, '/html/body/div[6]/div/div/div/div[3]/button[2]').click()"
   ]
  },
  {
   "cell_type": "code",
   "execution_count": 74,
   "id": "74fcd9f6",
   "metadata": {},
   "outputs": [],
   "source": [
    "driver.get('https://www.instagram.com/explore/tags/bts/')"
   ]
  },
  {
   "cell_type": "code",
   "execution_count": 54,
   "id": "11ddeb14",
   "metadata": {},
   "outputs": [],
   "source": [
    "#  게시물 클릭\n",
    "driver.find_element(By.XPATH, '//*[@id=\"react-root\"]/section/main/article/div[2]/div/div[1]/div[1]').click()\n",
    "# 같은 줄 두번째 //*[@id=\"react-root\"]/section/main/article/div[2]/div/div[1]/div[2]\n",
    "# 다음 줄 첫번째 //*[@id=\"react-root\"]/section/main/article/div[2]/div/div[2]/div[1]"
   ]
  },
  {
   "cell_type": "code",
   "execution_count": 56,
   "id": "2546c1c1",
   "metadata": {},
   "outputs": [],
   "source": [
    "# 게시물 옆으로 넘기기\n",
    "\n",
    "driver.find_element(By.XPATH, '/html/body/div[6]/div[2]/div/article/div/div[1]/div/div[1]/div[2]/div/button/div').click()"
   ]
  },
  {
   "cell_type": "code",
   "execution_count": 57,
   "id": "c32d2b80",
   "metadata": {},
   "outputs": [],
   "source": [
    "# 게시물 닫기\n",
    "driver.find_element(By.XPATH, '/html/body/div[6]/div[3]').click()"
   ]
  },
  {
   "cell_type": "code",
   "execution_count": null,
   "id": "ab01a221",
   "metadata": {},
   "outputs": [],
   "source": [
    "# 게시물 클릭하고 옆으로 넘기는 테스트 함수\n",
    "from time import sleep\n",
    "from selenium.webdriver.common.by import By\n",
    "from selenium.common.exceptions import NoSuchElementException\n",
    "\n",
    "def click_post(row, column):\n",
    "    if column == 0:\n",
    "        driver.find_element(By.XPATH, '//*[@id=\"react-root\"]/section/main/article/div[2]/div/div[%d]/div[%d]' %(row, 3)).click()\n",
    "    else:\n",
    "        driver.find_element(By.XPATH, '//*[@id=\"react-root\"]/section/main/article/div[2]/div/div[%d]/div[%d]' %(row+1, column)).click()\n",
    "    \n",
    "def get_num_of_photo():\n",
    "    try : \n",
    "        indicator_div = driver.find_element(By.XPATH, '/html/body/div[6]/div[2]/div/article/div/div[1]/div/div[2]')\n",
    "    except NoSuchElementException:\n",
    "        num_of_photos = 1\n",
    "    else:\n",
    "        num_of_photos = len(indicator_div.find_elements(By.TAG_NAME, 'div'))\n",
    "    return num_of_photos\n",
    "\n",
    "def click_likes():\n",
    "    try:\n",
    "        driver.find_element(By.XPATH, '/html/body/div[6]/div[2]/div/article/div/div[2]/div/div/div[2]/section[1]/span[1]').click()\n",
    "    except NoSuchElementException:\n",
    "        return False\n",
    "    else:\n",
    "        return True\n",
    "    \n",
    "def click_and_swipe_posts(num_of_post):\n",
    "    num_of_live_post = num_of_post\n",
    "    i = 1\n",
    "    while i < num_of_live_post+1:\n",
    "        row = i // 3\n",
    "        column = i % 3\n",
    "        print(row, column)\n",
    "        click_post(row, column)\n",
    "        num_of_photos = get_num_of_photo()\n",
    "        for i in range(1, num_of_photos+1):\n",
    "            sleep(2)\n",
    "            if num_of_photos == 1:\n",
    "                is_exist = click_likes()\n",
    "                if not is_exist:\n",
    "                    num_of_live_post += 1\n",
    "                sleep(1)\n",
    "                driver.find_element(By.XPATH, '/html/body/div[6]/div[3]/button').click()\n",
    "                    \n",
    "            else:\n",
    "                if i == 1:\n",
    "                    driver.find_element(By.XPATH, '/html/body/div[6]/div[2]/div/article/div/div[1]/div/div[1]/div[2]/div/button/div').click()\n",
    "                elif i != num_of_photos:\n",
    "                    driver.find_element(By.XPATH, '/html/body/div[6]/div[2]/div/article/div/div[1]/div/div[1]/div[2]/div/button[2]/div').click()\n",
    "                else:\n",
    "                    is_exist = click_likes()\n",
    "                    if not is_exist:\n",
    "                        num_of_live_post += 1\n",
    "                    sleep(1)\n",
    "                    driver.find_element(By.XPATH, '/html/body/div[6]/div[3]/button').click()\n",
    "        break\n",
    "        i += 1\n",
    "        sleep(2)\n",
    "        \n",
    "click_and_swipe_posts(9)"
   ]
  },
  {
   "cell_type": "code",
   "execution_count": 41,
   "id": "41583338",
   "metadata": {},
   "outputs": [
    {
     "data": {
      "text/plain": [
       "6"
      ]
     },
     "execution_count": 41,
     "metadata": {},
     "output_type": "execute_result"
    }
   ],
   "source": [
    "from selenium.webdriver.common.by import By\n",
    "indicator_div = driver.find_element(By.XPATH, '/html/body/div[6]/div[2]/div/article/div/div[1]/div/div[2]')\n",
    "num_of_photos = len(indicator_div.find_elements(By.TAG_NAME, 'div'))\n",
    "num_of_photos"
   ]
  },
  {
   "cell_type": "code",
   "execution_count": 44,
   "id": "2ff03990",
   "metadata": {},
   "outputs": [],
   "source": [
    "# 게시물 옆으로 넘기기\n",
    "for i in range(1, num_of_photos+1):\n",
    "    sleep(2)\n",
    "    if i == 1:\n",
    "        driver.find_element(By.XPATH, '/html/body/div[6]/div[2]/div/article/div/div[1]/div/div[1]/div[2]/div/button/div').click()\n",
    "    elif i != num_of_photos:\n",
    "        driver.find_element(By.XPATH, '/html/body/div[6]/div[2]/div/article/div/div[1]/div/div[1]/div[2]/div/button[2]/div').click()\n",
    "    else:\n",
    "        driver.find_element(By.XPATH, '/html/body/div[6]/div[3]/button').click()"
   ]
  },
  {
   "cell_type": "code",
   "execution_count": null,
   "id": "be70d1db",
   "metadata": {},
   "outputs": [],
   "source": [
    "/html/body/div[6]/div[2]/div/article/div/div[1]/div/div[1]/div[2]/div/button[2]"
   ]
  }
 ],
 "metadata": {
  "kernelspec": {
   "display_name": "Python 3 (ipykernel)",
   "language": "python",
   "name": "python3"
  },
  "language_info": {
   "codemirror_mode": {
    "name": "ipython",
    "version": 3
   },
   "file_extension": ".py",
   "mimetype": "text/x-python",
   "name": "python",
   "nbconvert_exporter": "python",
   "pygments_lexer": "ipython3",
   "version": "3.8.12"
  }
 },
 "nbformat": 4,
 "nbformat_minor": 5
}
