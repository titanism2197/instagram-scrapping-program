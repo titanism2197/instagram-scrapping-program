{
 "cells": [
  {
   "cell_type": "code",
   "execution_count": 4,
   "id": "21eeeff7",
   "metadata": {},
   "outputs": [
    {
     "name": "stderr",
     "output_type": "stream",
     "text": [
      "/var/folders/7q/l0rz745s4752p_1ssxj_51cc0000gn/T/ipykernel_1707/3231092847.py:2: DeprecationWarning: executable_path has been deprecated, please pass in a Service object\n",
      "  driver = webdriver.Chrome(executable_path= r'/Users/titanism/chromedriver')\n"
     ]
    }
   ],
   "source": [
    "from selenium import webdriver\n",
    "# 절대경로 설정 참고 - https://haloaround.tistory.com/215\n",
    "driver = webdriver.Chrome(executable_path= r'/Users/titanism/chromedriver')"
   ]
  },
  {
   "cell_type": "code",
   "execution_count": 5,
   "id": "1efc1f69",
   "metadata": {},
   "outputs": [],
   "source": [
    "url = 'https://www.instagram.com/'\n",
    "driver.get(url)"
   ]
  },
  {
   "cell_type": "code",
   "execution_count": 7,
   "id": "183ece02",
   "metadata": {},
   "outputs": [
    {
     "name": "stderr",
     "output_type": "stream",
     "text": [
      "/var/folders/7q/l0rz745s4752p_1ssxj_51cc0000gn/T/ipykernel_1707/739867963.py:1: DeprecationWarning: find_element_by_* commands are deprecated. Please use find_element() instead\n",
      "  driver.find_element_by_xpath('//*[@id=\"loginForm\"]/div/div[1]/div/label/input').send_keys('joo_topia2.7')\n",
      "/var/folders/7q/l0rz745s4752p_1ssxj_51cc0000gn/T/ipykernel_1707/739867963.py:2: DeprecationWarning: find_element_by_* commands are deprecated. Please use find_element() instead\n",
      "  driver.find_element_by_xpath('//*[@id=\"loginForm\"]/div/div[2]/div/label/input').send_keys('LittleTitan2197!')\n",
      "/var/folders/7q/l0rz745s4752p_1ssxj_51cc0000gn/T/ipykernel_1707/739867963.py:3: DeprecationWarning: find_element_by_* commands are deprecated. Please use find_element() instead\n",
      "  driver.find_element_by_xpath('//*[@id=\"loginForm\"]/div/div[3]').click()\n"
     ]
    }
   ],
   "source": [
    "# 직접 로그인 데이터를 입력할 수 있다.\n",
    "import getpass\n",
    "from time import sleep\n",
    "\n",
    "username = getpass.getpass(\"Input ID : \")# User ID\n",
    "password = getpass.getpass(\"Input PWD : \")# User PWD\n",
    "\n",
    "driver.find_element_by_xpath('//*[@id=\"loginForm\"]/div/div[1]/div/label/input').send_keys(username)\n",
    "driver.find_element_by_xpath('//*[@id=\"loginForm\"]/div/div[2]/div/label/input').send_keys(password)\n",
    "driver.find_element_by_xpath('//*[@id=\"loginForm\"]/div/div[3]').click()\n",
    "sleep(1.5)"
   ]
  },
  {
   "cell_type": "code",
   "execution_count": 8,
   "id": "d5aa052e",
   "metadata": {},
   "outputs": [
    {
     "name": "stderr",
     "output_type": "stream",
     "text": [
      "/var/folders/7q/l0rz745s4752p_1ssxj_51cc0000gn/T/ipykernel_1707/820798698.py:1: DeprecationWarning: find_element_by_* commands are deprecated. Please use find_element() instead\n",
      "  driver.find_element_by_xpath('//*[@id=\"react-root\"]/section/main/div/div/div/div/button').click()\n"
     ]
    }
   ],
   "source": [
    "# 로그인 정보 저장\n",
    "driver.find_element_by_xpath('//*[@id=\"react-root\"]/section/main/div/div/div/div/button').click()"
   ]
  },
  {
   "cell_type": "code",
   "execution_count": 9,
   "id": "e5bed58a",
   "metadata": {},
   "outputs": [
    {
     "name": "stderr",
     "output_type": "stream",
     "text": [
      "/var/folders/7q/l0rz745s4752p_1ssxj_51cc0000gn/T/ipykernel_1707/1603181263.py:2: DeprecationWarning: find_element_by_* commands are deprecated. Please use find_element() instead\n",
      "  driver.find_element_by_xpath('/html/body/div[5]/div/div/div/div[3]/button[2]').click()\n"
     ]
    }
   ],
   "source": [
    "# 알람설정\n",
    "driver.find_element_by_xpath('/html/body/div[5]/div/div/div/div[3]/button[2]').click()"
   ]
  },
  {
   "cell_type": "code",
   "execution_count": 10,
   "id": "0ff732e1",
   "metadata": {},
   "outputs": [],
   "source": [
    "driver.get('https://www.instagram.com/explore/tags/bts/')"
   ]
  },
  {
   "cell_type": "code",
   "execution_count": 11,
   "id": "a623cb81",
   "metadata": {},
   "outputs": [
    {
     "name": "stderr",
     "output_type": "stream",
     "text": [
      "/var/folders/7q/l0rz745s4752p_1ssxj_51cc0000gn/T/ipykernel_1707/865245559.py:1: DeprecationWarning: find_element_by_* commands are deprecated. Please use find_element() instead\n",
      "  driver.find_element_by_xpath('//*[@id=\"react-root\"]/section/main/article/div[2]/div/div[1]/div[1]').click()\n"
     ]
    }
   ],
   "source": [
    "#  게시물 클릭\n",
    "driver.find_element_by_xpath('//*[@id=\"react-root\"]/section/main/article/div[2]/div/div[1]/div[1]').click()\n",
    "# 같은 줄 두번째 //*[@id=\"react-root\"]/section/main/article/div[2]/div/div[1]/div[2]\n",
    "# 다음 줄 첫번째 //*[@id=\"react-root\"]/section/main/article/div[2]/div/div[2]/div[1]"
   ]
  },
  {
   "cell_type": "code",
   "execution_count": 12,
   "id": "9062ac92",
   "metadata": {},
   "outputs": [
    {
     "name": "stderr",
     "output_type": "stream",
     "text": [
      "/var/folders/7q/l0rz745s4752p_1ssxj_51cc0000gn/T/ipykernel_1707/334208587.py:1: DeprecationWarning: find_element_by_* commands are deprecated. Please use find_element() instead\n",
      "  driver.find_element_by_xpath('/html/body/div[6]/div[2]/div/article/div/div[1]/div/div[1]/div[2]/div/button/div').click()\n"
     ]
    }
   ],
   "source": [
    "# 게시물 옆으로 넘기기\n",
    "\n",
    "driver.find_element_by_xpath('/html/body/div[6]/div[2]/div/article/div/div[1]/div/div[1]/div[2]/div/button/div').click()"
   ]
  },
  {
   "cell_type": "code",
   "execution_count": null,
   "id": "728a2813",
   "metadata": {},
   "outputs": [],
   "source": []
  }
 ],
 "metadata": {
  "kernelspec": {
   "display_name": "Python 3 (ipykernel)",
   "language": "python",
   "name": "python3"
  },
  "language_info": {
   "codemirror_mode": {
    "name": "ipython",
    "version": 3
   },
   "file_extension": ".py",
   "mimetype": "text/x-python",
   "name": "python",
   "nbconvert_exporter": "python",
   "pygments_lexer": "ipython3",
   "version": "3.8.12"
  }
 },
 "nbformat": 4,
 "nbformat_minor": 5
}
